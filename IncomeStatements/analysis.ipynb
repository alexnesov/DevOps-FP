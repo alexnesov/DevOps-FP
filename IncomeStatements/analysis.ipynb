{
 "cells": [
  {
   "cell_type": "code",
   "execution_count": 24,
   "metadata": {},
   "outputs": [],
   "source": [
    "import pandas as pd\n",
    "import yfinance as yf\n",
    "\n",
    "SE = \"NASDAQ\" # or \"NYSE\"\n",
    "\n",
    "list_stock = pd.read_csv(f\"/home/nesov/Programmation/DevOps-FP/DataWrangling/{SE}_list.csv\")[\"Symbol\"].to_list()\n",
    "filtered_list = [item for item in list_stock if \"-\" not in str(item) and \".\" not in str(item)]\n"
   ]
  },
  {
   "cell_type": "code",
   "execution_count": 25,
   "metadata": {},
   "outputs": [],
   "source": [
    "tickers = ['TSLA', 'AAPL']\n",
    "\n",
    "def rename_columns_to_year(df: pd.DateOffset):\n",
    "    # Get the current column names\n",
    "    columns = df.columns\n",
    "    \n",
    "    # Create a mapping of old column names to new column names with just the year\n",
    "    column_mapping = {col: col.year for col in columns}\n",
    "    \n",
    "    # Rename the columns in the DataFrame\n",
    "    df.columns = df.columns.map(column_mapping)\n",
    "    \n",
    "    return df\n",
    "\n",
    "def get_income_statement(ticker: str):\n",
    "    stock = yf.Ticker(ticker)\n",
    "    income_statement = stock.financials\n",
    "\n",
    "    rename_columns_to_year(income_statement)\n",
    "\n",
    "    return income_statement\n",
    "\n",
    "\n",
    "income_statement = get_income_statement(\"TSLA\")"
   ]
  },
  {
   "cell_type": "code",
   "execution_count": 33,
   "metadata": {},
   "outputs": [
    {
     "data": {
      "text/plain": [
       "25.598438535759005"
      ]
     },
     "execution_count": 33,
     "metadata": {},
     "output_type": "execute_result"
    }
   ],
   "source": [
    "\n",
    "income_statement[2022]['Gross Profit'] / income_statement[2022]['Total Revenue'] * 100"
   ]
  },
  {
   "cell_type": "code",
   "execution_count": null,
   "metadata": {},
   "outputs": [],
   "source": []
  }
 ],
 "metadata": {
  "kernelspec": {
   "display_name": "Python 3",
   "language": "python",
   "name": "python3"
  },
  "language_info": {
   "codemirror_mode": {
    "name": "ipython",
    "version": 3
   },
   "file_extension": ".py",
   "mimetype": "text/x-python",
   "name": "python",
   "nbconvert_exporter": "python",
   "pygments_lexer": "ipython3",
   "version": "3.10.12"
  }
 },
 "nbformat": 4,
 "nbformat_minor": 2
}
